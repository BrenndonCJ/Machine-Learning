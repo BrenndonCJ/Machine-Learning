{
 "metadata": {
  "language_info": {
   "codemirror_mode": {
    "name": "ipython",
    "version": 3
   },
   "file_extension": ".py",
   "mimetype": "text/x-python",
   "name": "python",
   "nbconvert_exporter": "python",
   "pygments_lexer": "ipython3",
   "version": "3.8.5"
  },
  "orig_nbformat": 4,
  "kernelspec": {
   "name": "python3",
   "display_name": "Python 3.8.5 32-bit ('venv': venv)"
  },
  "interpreter": {
   "hash": "64a1be9109c99b5472cee0aa47f2a8a04dd81074ce082d34862290aec5fb2e67"
  }
 },
 "nbformat": 4,
 "nbformat_minor": 2,
 "cells": [
  {
   "cell_type": "code",
   "execution_count": 1,
   "metadata": {},
   "outputs": [],
   "source": [
    "# Realizando os primeiros imports\n",
    "\n",
    "import pandas as pd\n",
    "import numpy as np"
   ]
  },
  {
   "cell_type": "code",
   "execution_count": 2,
   "metadata": {},
   "outputs": [],
   "source": [
    "# Carregando os dados\n",
    "\n",
    "data_train = pd.read_csv(\"train.csv\")\n",
    "data_submiss = pd.read_csv(\"test.csv\")"
   ]
  },
  {
   "source": [
    "# Vizualisando os DataFrames"
   ],
   "cell_type": "markdown",
   "metadata": {}
  },
  {
   "cell_type": "code",
   "execution_count": 3,
   "metadata": {},
   "outputs": [
    {
     "output_type": "execute_result",
     "data": {
      "text/plain": [
       "   id keyword location                                               text  \\\n",
       "0   1     NaN      NaN  Our Deeds are the Reason of this #earthquake M...   \n",
       "1   4     NaN      NaN             Forest fire near La Ronge Sask. Canada   \n",
       "2   5     NaN      NaN  All residents asked to 'shelter in place' are ...   \n",
       "3   6     NaN      NaN  13,000 people receive #wildfires evacuation or...   \n",
       "4   7     NaN      NaN  Just got sent this photo from Ruby #Alaska as ...   \n",
       "\n",
       "   target  \n",
       "0       1  \n",
       "1       1  \n",
       "2       1  \n",
       "3       1  \n",
       "4       1  "
      ],
      "text/html": "<div>\n<style scoped>\n    .dataframe tbody tr th:only-of-type {\n        vertical-align: middle;\n    }\n\n    .dataframe tbody tr th {\n        vertical-align: top;\n    }\n\n    .dataframe thead th {\n        text-align: right;\n    }\n</style>\n<table border=\"1\" class=\"dataframe\">\n  <thead>\n    <tr style=\"text-align: right;\">\n      <th></th>\n      <th>id</th>\n      <th>keyword</th>\n      <th>location</th>\n      <th>text</th>\n      <th>target</th>\n    </tr>\n  </thead>\n  <tbody>\n    <tr>\n      <th>0</th>\n      <td>1</td>\n      <td>NaN</td>\n      <td>NaN</td>\n      <td>Our Deeds are the Reason of this #earthquake M...</td>\n      <td>1</td>\n    </tr>\n    <tr>\n      <th>1</th>\n      <td>4</td>\n      <td>NaN</td>\n      <td>NaN</td>\n      <td>Forest fire near La Ronge Sask. Canada</td>\n      <td>1</td>\n    </tr>\n    <tr>\n      <th>2</th>\n      <td>5</td>\n      <td>NaN</td>\n      <td>NaN</td>\n      <td>All residents asked to 'shelter in place' are ...</td>\n      <td>1</td>\n    </tr>\n    <tr>\n      <th>3</th>\n      <td>6</td>\n      <td>NaN</td>\n      <td>NaN</td>\n      <td>13,000 people receive #wildfires evacuation or...</td>\n      <td>1</td>\n    </tr>\n    <tr>\n      <th>4</th>\n      <td>7</td>\n      <td>NaN</td>\n      <td>NaN</td>\n      <td>Just got sent this photo from Ruby #Alaska as ...</td>\n      <td>1</td>\n    </tr>\n  </tbody>\n</table>\n</div>"
     },
     "metadata": {},
     "execution_count": 3
    }
   ],
   "source": [
    "data_train.head()"
   ]
  },
  {
   "cell_type": "code",
   "execution_count": 4,
   "metadata": {},
   "outputs": [
    {
     "output_type": "execute_result",
     "data": {
      "text/plain": [
       "   id keyword location                                               text\n",
       "0   0     NaN      NaN                 Just happened a terrible car crash\n",
       "1   2     NaN      NaN  Heard about #earthquake is different cities, s...\n",
       "2   3     NaN      NaN  there is a forest fire at spot pond, geese are...\n",
       "3   9     NaN      NaN           Apocalypse lighting. #Spokane #wildfires\n",
       "4  11     NaN      NaN      Typhoon Soudelor kills 28 in China and Taiwan"
      ],
      "text/html": "<div>\n<style scoped>\n    .dataframe tbody tr th:only-of-type {\n        vertical-align: middle;\n    }\n\n    .dataframe tbody tr th {\n        vertical-align: top;\n    }\n\n    .dataframe thead th {\n        text-align: right;\n    }\n</style>\n<table border=\"1\" class=\"dataframe\">\n  <thead>\n    <tr style=\"text-align: right;\">\n      <th></th>\n      <th>id</th>\n      <th>keyword</th>\n      <th>location</th>\n      <th>text</th>\n    </tr>\n  </thead>\n  <tbody>\n    <tr>\n      <th>0</th>\n      <td>0</td>\n      <td>NaN</td>\n      <td>NaN</td>\n      <td>Just happened a terrible car crash</td>\n    </tr>\n    <tr>\n      <th>1</th>\n      <td>2</td>\n      <td>NaN</td>\n      <td>NaN</td>\n      <td>Heard about #earthquake is different cities, s...</td>\n    </tr>\n    <tr>\n      <th>2</th>\n      <td>3</td>\n      <td>NaN</td>\n      <td>NaN</td>\n      <td>there is a forest fire at spot pond, geese are...</td>\n    </tr>\n    <tr>\n      <th>3</th>\n      <td>9</td>\n      <td>NaN</td>\n      <td>NaN</td>\n      <td>Apocalypse lighting. #Spokane #wildfires</td>\n    </tr>\n    <tr>\n      <th>4</th>\n      <td>11</td>\n      <td>NaN</td>\n      <td>NaN</td>\n      <td>Typhoon Soudelor kills 28 in China and Taiwan</td>\n    </tr>\n  </tbody>\n</table>\n</div>"
     },
     "metadata": {},
     "execution_count": 4
    }
   ],
   "source": [
    "data_submiss.head()"
   ]
  },
  {
   "cell_type": "code",
   "execution_count": 5,
   "metadata": {},
   "outputs": [
    {
     "output_type": "stream",
     "name": "stdout",
     "text": [
      "<class 'pandas.core.frame.DataFrame'>\nRangeIndex: 7613 entries, 0 to 7612\nData columns (total 5 columns):\n #   Column    Non-Null Count  Dtype \n---  ------    --------------  ----- \n 0   id        7613 non-null   int64 \n 1   keyword   7552 non-null   object\n 2   location  5080 non-null   object\n 3   text      7613 non-null   object\n 4   target    7613 non-null   int64 \ndtypes: int64(2), object(3)\nmemory usage: 208.2+ KB\n"
     ]
    }
   ],
   "source": [
    "data_train.info()"
   ]
  },
  {
   "cell_type": "code",
   "execution_count": 6,
   "metadata": {},
   "outputs": [
    {
     "output_type": "stream",
     "name": "stdout",
     "text": [
      "<class 'pandas.core.frame.DataFrame'>\nRangeIndex: 3263 entries, 0 to 3262\nData columns (total 4 columns):\n #   Column    Non-Null Count  Dtype \n---  ------    --------------  ----- \n 0   id        3263 non-null   int64 \n 1   keyword   3237 non-null   object\n 2   location  2158 non-null   object\n 3   text      3263 non-null   object\ndtypes: int64(1), object(3)\nmemory usage: 63.8+ KB\n"
     ]
    }
   ],
   "source": [
    "data_submiss.info()"
   ]
  },
  {
   "source": [
    "# PREPARANDO DADOS"
   ],
   "cell_type": "markdown",
   "metadata": {}
  },
  {
   "cell_type": "code",
   "execution_count": 7,
   "metadata": {},
   "outputs": [],
   "source": [
    "#import nltk\n",
    "import re\n",
    "import string\n",
    "import unicodedata\n",
    "from tqdm import tqdm"
   ]
  },
  {
   "cell_type": "code",
   "execution_count": 8,
   "metadata": {},
   "outputs": [],
   "source": [
    "def clear_text(text):\n",
    "    # REMOÇÃO DE LINKS\n",
    "    text = re.sub(r'http\\S+','',text).replace('  ',' ').lower()\n",
    "\n",
    "    return text"
   ]
  },
  {
   "source": [
    "data_train['clear_text'] = tqdm(data_train['text'].map(clear_text))\n",
    "data_submiss['clear_text'] = tqdm(data_submiss['text'].map(clear_text))"
   ],
   "cell_type": "code",
   "metadata": {},
   "execution_count": 9,
   "outputs": [
    {
     "output_type": "stream",
     "name": "stderr",
     "text": [
      "100%|██████████| 7613/7613 [00:00<00:00, 362591.26it/s]\n",
      "100%|██████████| 3263/3263 [00:00<00:00, 296690.02it/s]\n"
     ]
    }
   ]
  },
  {
   "source": [
    "# BUSCA PELO MELHOR MODELO"
   ],
   "cell_type": "markdown",
   "metadata": {}
  },
  {
   "cell_type": "code",
   "execution_count": 10,
   "metadata": {},
   "outputs": [
    {
     "output_type": "stream",
     "name": "stdout",
     "text": [
      "WARN: OMP_NUM_THREADS=None =>\n... If you are using openblas if you are using openblas set OMP_NUM_THREADS=1 or risk subprocess calls hanging indefinitely\n"
     ]
    }
   ],
   "source": [
    "from search_best_model import BestModel"
   ]
  },
  {
   "cell_type": "code",
   "execution_count": 11,
   "metadata": {},
   "outputs": [
    {
     "output_type": "execute_result",
     "data": {
      "text/plain": [
       "                                              values  target\n",
       "0  our deeds are the reason of this #earthquake m...       1\n",
       "1             forest fire near la ronge sask. canada       1\n",
       "2  all residents asked to 'shelter in place' are ...       1\n",
       "3  13,000 people receive #wildfires evacuation or...       1\n",
       "4  just got sent this photo from ruby #alaska as ...       1"
      ],
      "text/html": "<div>\n<style scoped>\n    .dataframe tbody tr th:only-of-type {\n        vertical-align: middle;\n    }\n\n    .dataframe tbody tr th {\n        vertical-align: top;\n    }\n\n    .dataframe thead th {\n        text-align: right;\n    }\n</style>\n<table border=\"1\" class=\"dataframe\">\n  <thead>\n    <tr style=\"text-align: right;\">\n      <th></th>\n      <th>values</th>\n      <th>target</th>\n    </tr>\n  </thead>\n  <tbody>\n    <tr>\n      <th>0</th>\n      <td>our deeds are the reason of this #earthquake m...</td>\n      <td>1</td>\n    </tr>\n    <tr>\n      <th>1</th>\n      <td>forest fire near la ronge sask. canada</td>\n      <td>1</td>\n    </tr>\n    <tr>\n      <th>2</th>\n      <td>all residents asked to 'shelter in place' are ...</td>\n      <td>1</td>\n    </tr>\n    <tr>\n      <th>3</th>\n      <td>13,000 people receive #wildfires evacuation or...</td>\n      <td>1</td>\n    </tr>\n    <tr>\n      <th>4</th>\n      <td>just got sent this photo from ruby #alaska as ...</td>\n      <td>1</td>\n    </tr>\n  </tbody>\n</table>\n</div>"
     },
     "metadata": {},
     "execution_count": 11
    }
   ],
   "source": [
    "dataEntry = pd.DataFrame({'values': data_train.clear_text, 'target':data_train.target})\n",
    "\n",
    "dataEntry.head()"
   ]
  },
  {
   "cell_type": "code",
   "execution_count": 12,
   "metadata": {},
   "outputs": [
    {
     "output_type": "stream",
     "name": "stdout",
     "text": [
      "100%|██████████| 1/1 [00:07<00:00,  7.80s/trial, best loss: 0.24705882352941178]\n",
      "100%|██████████| 2/2 [00:11<00:00, 11.18s/trial, best loss: 0.196078431372549]\n",
      "100%|██████████| 3/3 [00:06<00:00,  6.91s/trial, best loss: 0.196078431372549]\n",
      "100%|██████████| 4/4 [00:25<00:00, 25.78s/trial, best loss: 0.196078431372549]\n",
      "100%|██████████| 5/5 [00:21<00:00, 21.29s/trial, best loss: 0.196078431372549]\n",
      "100%|██████████| 6/6 [00:08<00:00,  8.18s/trial, best loss: 0.196078431372549]\n",
      "100%|██████████| 7/7 [00:07<00:00,  7.54s/trial, best loss: 0.196078431372549]\n",
      "100%|██████████| 8/8 [00:09<00:00,  9.42s/trial, best loss: 0.196078431372549]\n",
      "100%|██████████| 9/9 [00:09<00:00,  9.33s/trial, best loss: 0.196078431372549]\n",
      "100%|██████████| 10/10 [00:26<00:00, 26.56s/trial, best loss: 0.196078431372549]\n",
      "100%|██████████| 11/11 [00:11<00:00, 11.56s/trial, best loss: 0.196078431372549]\n",
      "100%|██████████| 12/12 [00:08<00:00,  8.06s/trial, best loss: 0.196078431372549]\n",
      "100%|██████████| 13/13 [00:08<00:00,  8.35s/trial, best loss: 0.196078431372549]\n",
      "100%|██████████| 14/14 [00:09<00:00,  9.73s/trial, best loss: 0.196078431372549]\n",
      "100%|██████████| 15/15 [00:09<00:00,  9.20s/trial, best loss: 0.196078431372549]\n",
      "100%|██████████| 16/16 [00:11<00:00, 11.12s/trial, best loss: 0.196078431372549]\n",
      "100%|██████████| 17/17 [00:20<00:00, 20.06s/trial, best loss: 0.196078431372549]\n",
      "100%|██████████| 18/18 [00:09<00:00,  9.85s/trial, best loss: 0.196078431372549]\n",
      "100%|██████████| 19/19 [00:09<00:00,  9.32s/trial, best loss: 0.196078431372549]\n",
      "100%|██████████| 20/20 [00:11<00:00, 11.17s/trial, best loss: 0.196078431372549]\n",
      "100%|██████████| 21/21 [00:10<00:00, 10.80s/trial, best loss: 0.196078431372549]\n",
      "100%|██████████| 22/22 [00:11<00:00, 11.42s/trial, best loss: 0.196078431372549]\n",
      "100%|██████████| 23/23 [00:12<00:00, 13.00s/trial, best loss: 0.196078431372549]\n",
      "100%|██████████| 24/24 [00:10<00:00, 10.81s/trial, best loss: 0.196078431372549]\n",
      "100%|██████████| 25/25 [00:09<00:00,  9.81s/trial, best loss: 0.196078431372549]\n",
      "100%|██████████| 26/26 [00:10<00:00, 10.68s/trial, best loss: 0.196078431372549]\n",
      "100%|██████████| 27/27 [00:10<00:00, 10.44s/trial, best loss: 0.196078431372549]\n",
      "100%|██████████| 28/28 [00:09<00:00,  9.19s/trial, best loss: 0.196078431372549]\n",
      "100%|██████████| 29/29 [00:07<00:00,  7.99s/trial, best loss: 0.196078431372549]\n",
      "100%|██████████| 30/30 [00:09<00:00,  9.57s/trial, best loss: 0.196078431372549]\n"
     ]
    }
   ],
   "source": [
    "dict_result : dict = BestModel.bestClassifierSparse(dataEntry)"
   ]
  },
  {
   "cell_type": "code",
   "execution_count": 29,
   "metadata": {},
   "outputs": [
    {
     "output_type": "stream",
     "name": "stdout",
     "text": [
      "\nAccuracy: 0.7950656585754079\n\nBest Model: SGDClassifier(alpha=0.0028535230324935874, class_weight='balanced',\n              eta0=0.00028120678640011987, l1_ratio=0.6155089860686642,\n              learning_rate='invscaling', loss='squared_loss',\n              max_iter=44964398.0, n_jobs=1, power_t=0.08296412658986185,\n              random_state=4, tol=6.945405464915281e-05, verbose=False)\n\nBest Pre-process: TfidfVectorizer(binary=True, ngram_range=(1, 3), norm=None, smooth_idf=False,\n                use_idf=False)\n\n"
     ]
    }
   ],
   "source": [
    "print(f\"\"\"\n",
    "Accuracy: {dict_result['score']}\n",
    "\n",
    "Best Model: {dict_result['best_model']['learner']}\n",
    "\n",
    "Best Pre-process: {dict_result['best_model']['preprocs'][0]}\n",
    "\"\"\")"
   ]
  },
  {
   "source": [
    "# Definindo modelo e processamento"
   ],
   "cell_type": "markdown",
   "metadata": {}
  },
  {
   "cell_type": "code",
   "execution_count": 14,
   "metadata": {},
   "outputs": [],
   "source": [
    "from sklearn.linear_model import SGDClassifier, RidgeClassifier\n",
    "\n",
    "from sklearn.naive_bayes import MultinomialNB\n",
    "\n",
    "from sklearn.feature_extraction.text import CountVectorizer, TfidfVectorizer\n",
    "\n",
    "from sklearn.metrics import accuracy_score, confusion_matrix\n",
    "from sklearn.model_selection import train_test_split, cross_val_score"
   ]
  },
  {
   "cell_type": "code",
   "execution_count": 38,
   "metadata": {},
   "outputs": [],
   "source": [
    "# Modelo\n",
    "clf = SGDClassifier(alpha=0.0028535230324935874, class_weight='balanced',\n",
    "              eta0=0.00028120678640011987, l1_ratio=0.6155089860686642,\n",
    "              learning_rate='invscaling', loss='squared_loss',\n",
    "              max_iter=44964398.0, n_jobs=1, power_t=0.08296412658986185,\n",
    "              random_state=4, tol=6.945405464915281e-05, verbose=False)\n",
    "\n",
    "# Processamento\n",
    "pre = TfidfVectorizer(binary=True, ngram_range=(1, 3), norm=None, smooth_idf=False,\n",
    "                use_idf=False)"
   ]
  },
  {
   "cell_type": "code",
   "execution_count": 39,
   "metadata": {},
   "outputs": [
    {
     "output_type": "stream",
     "name": "stdout",
     "text": [
      "0.7950656585754079\n"
     ]
    }
   ],
   "source": [
    "# Validação de modelo\n",
    "\n",
    "X_train, X_test, y_train, y_test = train_test_split(data_train['clear_text'], data_train['target'], test_size=0.33, random_state=1)\n",
    "\n",
    "features_train = pre.fit_transform(X_train)\n",
    "features_test = pre.transform(X_test)\n",
    "\n",
    "clf.fit(features_train, y_train)\n",
    "\n",
    "predict_test = clf.predict(features_test)\n",
    "\n",
    "print(f\"{accuracy_score(y_test, predict_test)}\")"
   ]
  },
  {
   "cell_type": "code",
   "execution_count": 40,
   "metadata": {},
   "outputs": [
    {
     "output_type": "execute_result",
     "data": {
      "text/plain": [
       "SGDClassifier(alpha=0.0028535230324935874, class_weight='balanced',\n",
       "              eta0=0.00028120678640011987, l1_ratio=0.6155089860686642,\n",
       "              learning_rate='invscaling', loss='squared_loss',\n",
       "              max_iter=44964398.0, n_jobs=1, power_t=0.08296412658986185,\n",
       "              random_state=4, tol=6.945405464915281e-05, verbose=False)"
      ]
     },
     "metadata": {},
     "execution_count": 40
    }
   ],
   "source": [
    "# Realizando treinamento com conjunto completo de dados\n",
    "\n",
    "features_train = pre.fit_transform(data_train.clear_text)\n",
    "\n",
    "features_submiss = pre.transform(data_submiss.clear_text)\n",
    "\n",
    "clf.fit(features_train, data_train.target)"
   ]
  },
  {
   "cell_type": "code",
   "execution_count": 41,
   "metadata": {},
   "outputs": [],
   "source": [
    "# Realizando a previsão\n",
    "\n",
    "pred = clf.predict(features_submiss)"
   ]
  },
  {
   "source": [
    "# Gerando CSV para submissao"
   ],
   "cell_type": "markdown",
   "metadata": {}
  },
  {
   "cell_type": "code",
   "execution_count": 43,
   "metadata": {},
   "outputs": [
    {
     "output_type": "execute_result",
     "data": {
      "text/plain": [
       "   id  target\n",
       "0   0       1\n",
       "1   2       1\n",
       "2   3       1\n",
       "3   9       0\n",
       "4  11       1"
      ],
      "text/html": "<div>\n<style scoped>\n    .dataframe tbody tr th:only-of-type {\n        vertical-align: middle;\n    }\n\n    .dataframe tbody tr th {\n        vertical-align: top;\n    }\n\n    .dataframe thead th {\n        text-align: right;\n    }\n</style>\n<table border=\"1\" class=\"dataframe\">\n  <thead>\n    <tr style=\"text-align: right;\">\n      <th></th>\n      <th>id</th>\n      <th>target</th>\n    </tr>\n  </thead>\n  <tbody>\n    <tr>\n      <th>0</th>\n      <td>0</td>\n      <td>1</td>\n    </tr>\n    <tr>\n      <th>1</th>\n      <td>2</td>\n      <td>1</td>\n    </tr>\n    <tr>\n      <th>2</th>\n      <td>3</td>\n      <td>1</td>\n    </tr>\n    <tr>\n      <th>3</th>\n      <td>9</td>\n      <td>0</td>\n    </tr>\n    <tr>\n      <th>4</th>\n      <td>11</td>\n      <td>1</td>\n    </tr>\n  </tbody>\n</table>\n</div>"
     },
     "metadata": {},
     "execution_count": 43
    }
   ],
   "source": [
    "last_result = pd.DataFrame({'id':data_submiss.id, 'target':pred})\n",
    "last_result.head()"
   ]
  },
  {
   "cell_type": "code",
   "execution_count": 44,
   "metadata": {},
   "outputs": [],
   "source": [
    "last_result.to_csv('second_submission.csv', index=False)"
   ]
  }
 ]
}