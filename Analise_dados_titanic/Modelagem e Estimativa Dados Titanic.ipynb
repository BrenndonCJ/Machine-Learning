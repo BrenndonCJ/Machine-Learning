{
    "cells": [
        {
            "cell_type": "code",
            "execution_count": 3,
            "source": [
                "import pandas as pd\r\n",
                "import numpy as np"
            ],
            "outputs": [],
            "metadata": {}
        },
        {
            "cell_type": "code",
            "execution_count": 186,
            "source": [
                "# Importando CSV de treino\r\n",
                "# Importanto CSV de validação do kaggle\r\n",
                "# AMBOS Pré processados\r\n",
                "\r\n",
                "df_train = pd.read_csv(\"../Analise_dados_titanic/X_desbalanced_overSampling.csv\")\r\n",
                "targets = pd.read_csv(\"../Analise_dados_titanic/df_train_Targets.csv\")\r\n",
                "df_submission = pd.read_csv(\"../Analise_dados_titanic/df_submission_final.csv\")\r\n"
            ],
            "outputs": [],
            "metadata": {}
        },
        {
            "cell_type": "code",
            "execution_count": 187,
            "source": [
                "df_train.head()"
            ],
            "outputs": [
                {
                    "output_type": "execute_result",
                    "data": {
                        "text/plain": [
                            "   Pclass     Fare  Sex_bin  Title_int  Parch\n",
                            "0       3   7.2500        0          1      0\n",
                            "1       1  71.2833        1          3      0\n",
                            "2       3   7.9250        1          2      0\n",
                            "3       1  53.1000        1          3      0\n",
                            "4       3   8.0500        0          1      0"
                        ],
                        "text/html": [
                            "<div>\n",
                            "<style scoped>\n",
                            "    .dataframe tbody tr th:only-of-type {\n",
                            "        vertical-align: middle;\n",
                            "    }\n",
                            "\n",
                            "    .dataframe tbody tr th {\n",
                            "        vertical-align: top;\n",
                            "    }\n",
                            "\n",
                            "    .dataframe thead th {\n",
                            "        text-align: right;\n",
                            "    }\n",
                            "</style>\n",
                            "<table border=\"1\" class=\"dataframe\">\n",
                            "  <thead>\n",
                            "    <tr style=\"text-align: right;\">\n",
                            "      <th></th>\n",
                            "      <th>Pclass</th>\n",
                            "      <th>Fare</th>\n",
                            "      <th>Sex_bin</th>\n",
                            "      <th>Title_int</th>\n",
                            "      <th>Parch</th>\n",
                            "    </tr>\n",
                            "  </thead>\n",
                            "  <tbody>\n",
                            "    <tr>\n",
                            "      <th>0</th>\n",
                            "      <td>3</td>\n",
                            "      <td>7.2500</td>\n",
                            "      <td>0</td>\n",
                            "      <td>1</td>\n",
                            "      <td>0</td>\n",
                            "    </tr>\n",
                            "    <tr>\n",
                            "      <th>1</th>\n",
                            "      <td>1</td>\n",
                            "      <td>71.2833</td>\n",
                            "      <td>1</td>\n",
                            "      <td>3</td>\n",
                            "      <td>0</td>\n",
                            "    </tr>\n",
                            "    <tr>\n",
                            "      <th>2</th>\n",
                            "      <td>3</td>\n",
                            "      <td>7.9250</td>\n",
                            "      <td>1</td>\n",
                            "      <td>2</td>\n",
                            "      <td>0</td>\n",
                            "    </tr>\n",
                            "    <tr>\n",
                            "      <th>3</th>\n",
                            "      <td>1</td>\n",
                            "      <td>53.1000</td>\n",
                            "      <td>1</td>\n",
                            "      <td>3</td>\n",
                            "      <td>0</td>\n",
                            "    </tr>\n",
                            "    <tr>\n",
                            "      <th>4</th>\n",
                            "      <td>3</td>\n",
                            "      <td>8.0500</td>\n",
                            "      <td>0</td>\n",
                            "      <td>1</td>\n",
                            "      <td>0</td>\n",
                            "    </tr>\n",
                            "  </tbody>\n",
                            "</table>\n",
                            "</div>"
                        ]
                    },
                    "metadata": {},
                    "execution_count": 187
                }
            ],
            "metadata": {}
        },
        {
            "cell_type": "code",
            "execution_count": 188,
            "source": [
                "df_submission.head()"
            ],
            "outputs": [
                {
                    "output_type": "execute_result",
                    "data": {
                        "text/plain": [
                            "   PassengerId  Pclass                                          Name     Sex  \\\n",
                            "0          892       3                              Kelly, Mr. James    male   \n",
                            "1          893       3              Wilkes, Mrs. James (Ellen Needs)  female   \n",
                            "2          894       2                     Myles, Mr. Thomas Francis    male   \n",
                            "3          895       3                              Wirz, Mr. Albert    male   \n",
                            "4          896       3  Hirvonen, Mrs. Alexander (Helga E Lindqvist)  female   \n",
                            "\n",
                            "    Age  SibSp  Parch   Ticket     Fare Cabin Embarked  Sex_bin  Embarked_int  \\\n",
                            "0  34.5      0      0   330911   7.8292   NaN        Q        0             3   \n",
                            "1  47.0      1      0   363272   7.0000   NaN        S        1             1   \n",
                            "2  62.0      0      0   240276   9.6875   NaN        Q        0             3   \n",
                            "3  27.0      0      0   315154   8.6625   NaN        S        0             1   \n",
                            "4  22.0      1      1  3101298  12.2875   NaN        S        1             1   \n",
                            "\n",
                            "  Title  Title_int  Family_size  \n",
                            "0   Mr.        1.0            0  \n",
                            "1  Mrs.        3.0            1  \n",
                            "2   Mr.        1.0            0  \n",
                            "3   Mr.        1.0            0  \n",
                            "4  Mrs.        3.0            2  "
                        ],
                        "text/html": [
                            "<div>\n",
                            "<style scoped>\n",
                            "    .dataframe tbody tr th:only-of-type {\n",
                            "        vertical-align: middle;\n",
                            "    }\n",
                            "\n",
                            "    .dataframe tbody tr th {\n",
                            "        vertical-align: top;\n",
                            "    }\n",
                            "\n",
                            "    .dataframe thead th {\n",
                            "        text-align: right;\n",
                            "    }\n",
                            "</style>\n",
                            "<table border=\"1\" class=\"dataframe\">\n",
                            "  <thead>\n",
                            "    <tr style=\"text-align: right;\">\n",
                            "      <th></th>\n",
                            "      <th>PassengerId</th>\n",
                            "      <th>Pclass</th>\n",
                            "      <th>Name</th>\n",
                            "      <th>Sex</th>\n",
                            "      <th>Age</th>\n",
                            "      <th>SibSp</th>\n",
                            "      <th>Parch</th>\n",
                            "      <th>Ticket</th>\n",
                            "      <th>Fare</th>\n",
                            "      <th>Cabin</th>\n",
                            "      <th>Embarked</th>\n",
                            "      <th>Sex_bin</th>\n",
                            "      <th>Embarked_int</th>\n",
                            "      <th>Title</th>\n",
                            "      <th>Title_int</th>\n",
                            "      <th>Family_size</th>\n",
                            "    </tr>\n",
                            "  </thead>\n",
                            "  <tbody>\n",
                            "    <tr>\n",
                            "      <th>0</th>\n",
                            "      <td>892</td>\n",
                            "      <td>3</td>\n",
                            "      <td>Kelly, Mr. James</td>\n",
                            "      <td>male</td>\n",
                            "      <td>34.5</td>\n",
                            "      <td>0</td>\n",
                            "      <td>0</td>\n",
                            "      <td>330911</td>\n",
                            "      <td>7.8292</td>\n",
                            "      <td>NaN</td>\n",
                            "      <td>Q</td>\n",
                            "      <td>0</td>\n",
                            "      <td>3</td>\n",
                            "      <td>Mr.</td>\n",
                            "      <td>1.0</td>\n",
                            "      <td>0</td>\n",
                            "    </tr>\n",
                            "    <tr>\n",
                            "      <th>1</th>\n",
                            "      <td>893</td>\n",
                            "      <td>3</td>\n",
                            "      <td>Wilkes, Mrs. James (Ellen Needs)</td>\n",
                            "      <td>female</td>\n",
                            "      <td>47.0</td>\n",
                            "      <td>1</td>\n",
                            "      <td>0</td>\n",
                            "      <td>363272</td>\n",
                            "      <td>7.0000</td>\n",
                            "      <td>NaN</td>\n",
                            "      <td>S</td>\n",
                            "      <td>1</td>\n",
                            "      <td>1</td>\n",
                            "      <td>Mrs.</td>\n",
                            "      <td>3.0</td>\n",
                            "      <td>1</td>\n",
                            "    </tr>\n",
                            "    <tr>\n",
                            "      <th>2</th>\n",
                            "      <td>894</td>\n",
                            "      <td>2</td>\n",
                            "      <td>Myles, Mr. Thomas Francis</td>\n",
                            "      <td>male</td>\n",
                            "      <td>62.0</td>\n",
                            "      <td>0</td>\n",
                            "      <td>0</td>\n",
                            "      <td>240276</td>\n",
                            "      <td>9.6875</td>\n",
                            "      <td>NaN</td>\n",
                            "      <td>Q</td>\n",
                            "      <td>0</td>\n",
                            "      <td>3</td>\n",
                            "      <td>Mr.</td>\n",
                            "      <td>1.0</td>\n",
                            "      <td>0</td>\n",
                            "    </tr>\n",
                            "    <tr>\n",
                            "      <th>3</th>\n",
                            "      <td>895</td>\n",
                            "      <td>3</td>\n",
                            "      <td>Wirz, Mr. Albert</td>\n",
                            "      <td>male</td>\n",
                            "      <td>27.0</td>\n",
                            "      <td>0</td>\n",
                            "      <td>0</td>\n",
                            "      <td>315154</td>\n",
                            "      <td>8.6625</td>\n",
                            "      <td>NaN</td>\n",
                            "      <td>S</td>\n",
                            "      <td>0</td>\n",
                            "      <td>1</td>\n",
                            "      <td>Mr.</td>\n",
                            "      <td>1.0</td>\n",
                            "      <td>0</td>\n",
                            "    </tr>\n",
                            "    <tr>\n",
                            "      <th>4</th>\n",
                            "      <td>896</td>\n",
                            "      <td>3</td>\n",
                            "      <td>Hirvonen, Mrs. Alexander (Helga E Lindqvist)</td>\n",
                            "      <td>female</td>\n",
                            "      <td>22.0</td>\n",
                            "      <td>1</td>\n",
                            "      <td>1</td>\n",
                            "      <td>3101298</td>\n",
                            "      <td>12.2875</td>\n",
                            "      <td>NaN</td>\n",
                            "      <td>S</td>\n",
                            "      <td>1</td>\n",
                            "      <td>1</td>\n",
                            "      <td>Mrs.</td>\n",
                            "      <td>3.0</td>\n",
                            "      <td>2</td>\n",
                            "    </tr>\n",
                            "  </tbody>\n",
                            "</table>\n",
                            "</div>"
                        ]
                    },
                    "metadata": {},
                    "execution_count": 188
                }
            ],
            "metadata": {}
        },
        {
            "cell_type": "code",
            "execution_count": 190,
            "source": [
                "# Definindo as colunas que seram utilizadas para treinamento e estimativa\r\n",
                "\r\n",
                "colunas = ['Pclass','Fare','Sex_bin','Title_int','Parch']"
            ],
            "outputs": [],
            "metadata": {}
        },
        {
            "cell_type": "code",
            "execution_count": 191,
            "source": [
                "X = df_train[colunas]\r\n",
                "try:\r\n",
                "    y = df_train['Survived']\r\n",
                "except:\r\n",
                "    y = targets\r\n",
                "\r\n",
                "envio = df_submission[colunas]"
            ],
            "outputs": [],
            "metadata": {}
        },
        {
            "cell_type": "code",
            "execution_count": 192,
            "source": [
                "X.info()"
            ],
            "outputs": [
                {
                    "output_type": "stream",
                    "name": "stdout",
                    "text": [
                        "<class 'pandas.core.frame.DataFrame'>\n",
                        "RangeIndex: 953 entries, 0 to 952\n",
                        "Data columns (total 5 columns):\n",
                        " #   Column     Non-Null Count  Dtype  \n",
                        "---  ------     --------------  -----  \n",
                        " 0   Pclass     953 non-null    int64  \n",
                        " 1   Fare       953 non-null    float64\n",
                        " 2   Sex_bin    953 non-null    int64  \n",
                        " 3   Title_int  953 non-null    int64  \n",
                        " 4   Parch      953 non-null    int64  \n",
                        "dtypes: float64(1), int64(4)\n",
                        "memory usage: 37.4 KB\n"
                    ]
                }
            ],
            "metadata": {}
        },
        {
            "cell_type": "code",
            "execution_count": 193,
            "source": [
                "y.info()"
            ],
            "outputs": [
                {
                    "output_type": "stream",
                    "name": "stdout",
                    "text": [
                        "<class 'pandas.core.frame.DataFrame'>\n",
                        "RangeIndex: 953 entries, 0 to 952\n",
                        "Data columns (total 1 columns):\n",
                        " #   Column    Non-Null Count  Dtype\n",
                        "---  ------    --------------  -----\n",
                        " 0   Survived  953 non-null    int64\n",
                        "dtypes: int64(1)\n",
                        "memory usage: 7.6 KB\n"
                    ]
                }
            ],
            "metadata": {}
        },
        {
            "cell_type": "code",
            "execution_count": 194,
            "source": [
                "\r\n",
                "import os\r\n",
                "os.environ['OMP_NUM_THREADS'] = '1'"
            ],
            "outputs": [],
            "metadata": {}
        },
        {
            "cell_type": "code",
            "execution_count": 195,
            "source": [
                "# Imports do sklearn\r\n",
                "\r\n",
                "from sklearn.model_selection import train_test_split"
            ],
            "outputs": [],
            "metadata": {}
        },
        {
            "cell_type": "code",
            "execution_count": 196,
            "source": [
                "# Dividindo os dados de treino em dois grupos\r\n",
                "X_group_train, X_group_test, y_group_train, y_group_test = train_test_split(X,y, test_size=0.3)"
            ],
            "outputs": [],
            "metadata": {}
        },
        {
            "cell_type": "markdown",
            "source": [
                "# ================================================================="
            ],
            "metadata": {}
        },
        {
            "cell_type": "code",
            "execution_count": 88,
            "source": [
                "# Imports do sklearn\r\n",
                "\r\n",
                "from sklearn.ensemble import RandomForestClassifier\r\n",
                "from xgboost import XGBClassifier\r\n",
                "\r\n",
                "from sklearn.preprocessing import MinMaxScaler\r\n",
                "from sklearn.feature_selection import SelectPercentile, chi2\r\n",
                "\r\n",
                "from sklearn.model_selection import cross_val_score, StratifiedKFold\r\n",
                "\r\n",
                "from sklearn.metrics import classification_report, confusion_matrix, roc_auc_score"
            ],
            "outputs": [],
            "metadata": {}
        },
        {
            "cell_type": "markdown",
            "source": [
                "# Definição do modelo\r\n",
                "clf = RandomForestClassifier(class_weight='balanced', criterion='entropy',\r\n",
                "                       max_depth=10, n_estimators=200, n_jobs=-1,\r\n",
                "                       random_state=5)"
            ],
            "metadata": {}
        },
        {
            "cell_type": "code",
            "execution_count": 197,
            "source": [
                "clf = XGBClassifier(base_score=0.5, booster='gbtree',\r\n",
                "              colsample_bylevel=0.7475082544980372, colsample_bynode=1,\r\n",
                "              colsample_bytree=0.7303494599037559, gamma=0.2782039943046268,\r\n",
                "              gpu_id=-1, importance_type='gain', interaction_constraints='',\r\n",
                "              learning_rate=0.0019499298126315443, max_delta_step=0,\r\n",
                "              max_depth=7, min_child_weight=1,\r\n",
                "              monotone_constraints='()', n_estimators=1600, n_jobs=1,\r\n",
                "              num_parallel_tree=1, random_state=4, reg_alpha=0.7569700751598903,\r\n",
                "              reg_lambda=1.291937538747793, scale_pos_weight=1, seed=4,\r\n",
                "              subsample=0.5056122040729307, tree_method='exact',\r\n",
                "              validate_parameters=1, verbosity=None, use_label_encoder=False,\r\n",
                "              disable_default_eval_metric=True)"
            ],
            "outputs": [],
            "metadata": {}
        },
        {
            "cell_type": "markdown",
            "source": [
                "## Realizando a primeira validação com todas as FEATURES"
            ],
            "metadata": {}
        },
        {
            "cell_type": "code",
            "execution_count": 51,
            "source": [
                "# Realizando Validação cruzada\r\n",
                "for i in range(3):\r\n",
                "    cv = StratifiedKFold(n_splits=5, shuffle=True, random_state=i)\r\n",
                "    results = cross_val_score(clf, X_group_train, y_group_train, cv= cv)\r\n",
                "\r\n",
                "    # Calculando as metricas\r\n",
                "    mean = results.mean()\r\n",
                "    dvp = results.std()\r\n",
                "    intervalo = f'{(mean - 2*dvp)*100:.3f} ~~ {(mean + 2*dvp)*100:.3f}'\r\n",
                "\r\n",
                "    # Mostrando resultados\r\n",
                "    print(f\"\"\"\r\n",
                "        Acuracia: {mean:.4f}\r\n",
                "        Intervalo de acuracia: {intervalo}\r\n",
                "    \"\"\")"
            ],
            "outputs": [
                {
                    "output_type": "stream",
                    "name": "stdout",
                    "text": [
                        "\n",
                        "        Acuracia: 0.8306\n",
                        "        Intervalo de acuracia: 76.799 ~~ 89.314\n",
                        "    \n",
                        "\n",
                        "        Acuracia: 0.8262\n",
                        "        Intervalo de acuracia: 74.735 ~~ 90.512\n",
                        "    \n",
                        "\n",
                        "        Acuracia: 0.8249\n",
                        "        Intervalo de acuracia: 79.755 ~~ 85.218\n",
                        "    \n"
                    ]
                }
            ],
            "metadata": {}
        },
        {
            "cell_type": "markdown",
            "source": [
                "## Realizando a validação com as melhores \"FEATURES\" definidas pelo seletor percentual"
            ],
            "metadata": {}
        },
        {
            "cell_type": "code",
            "execution_count": 198,
            "source": [
                "# Definindo seletor de FEATURES\r\n",
                "slc_feat = SelectPercentile(chi2,percentile=100)"
            ],
            "outputs": [],
            "metadata": {}
        },
        {
            "cell_type": "code",
            "execution_count": 199,
            "source": [
                "# Selecionando as melhores FEATURES para o modelo no grupo de treino para validação cruzada\r\n",
                "features_train = slc_feat.fit_transform(X_group_train,y_group_train)\r\n",
                "\r\n",
                "# Transformando as FEATURES do dataset de test\r\n",
                "features_test = slc_feat.transform(X_group_test)"
            ],
            "outputs": [],
            "metadata": {}
        },
        {
            "cell_type": "code",
            "execution_count": 200,
            "source": [
                "slc_feat.inverse_transform(features_train)[0]"
            ],
            "outputs": [
                {
                    "output_type": "execute_result",
                    "data": {
                        "text/plain": [
                            "array([ 1. , 53.1,  0. ,  1. ,  0. ])"
                        ]
                    },
                    "metadata": {},
                    "execution_count": 200
                }
            ],
            "metadata": {}
        },
        {
            "cell_type": "code",
            "execution_count": 201,
            "source": [
                "features_train.shape"
            ],
            "outputs": [
                {
                    "output_type": "execute_result",
                    "data": {
                        "text/plain": [
                            "(667, 5)"
                        ]
                    },
                    "metadata": {},
                    "execution_count": 201
                }
            ],
            "metadata": {}
        },
        {
            "cell_type": "code",
            "execution_count": 202,
            "source": [
                "# Realizando Validação cruzada\r\n",
                "for i in range(3):\r\n",
                "    cv = StratifiedKFold(n_splits=5, shuffle=True, random_state=i)\r\n",
                "    results = cross_val_score(clf, features_train, y_group_train, cv= cv)\r\n",
                "\r\n",
                "    # Calculando as metricas\r\n",
                "    mean = results.mean()\r\n",
                "    dvp = results.std()\r\n",
                "    intervalo = f'{(mean - 2*dvp)*100:.3f} ~~ {(mean + 2*dvp)*100:.3f}'\r\n",
                "\r\n",
                "    # Mostrando resultados\r\n",
                "    print(f\"\"\"\r\n",
                "        Acuracia: {mean*100:.3f}\r\n",
                "        Intervalo de acuracia: {intervalo}\r\n",
                "    \"\"\")"
            ],
            "outputs": [
                {
                    "output_type": "stream",
                    "name": "stdout",
                    "text": [
                        "\n",
                        "        Acuracia: 76.299\n",
                        "        Intervalo de acuracia: 67.657 ~~ 84.940\n",
                        "    \n",
                        "\n",
                        "        Acuracia: 76.764\n",
                        "        Intervalo de acuracia: 71.772 ~~ 81.755\n",
                        "    \n",
                        "\n",
                        "        Acuracia: 76.613\n",
                        "        Intervalo de acuracia: 72.587 ~~ 80.639\n",
                        "    \n"
                    ]
                }
            ],
            "metadata": {}
        },
        {
            "cell_type": "code",
            "execution_count": 203,
            "source": [
                "# Realizando treino com subcontunto de treino com as FEATURES SELECIONADAS\r\n",
                "clf.fit(features_train, y_group_train)"
            ],
            "outputs": [
                {
                    "output_type": "execute_result",
                    "data": {
                        "text/plain": [
                            "XGBClassifier(base_score=0.5, booster='gbtree',\n",
                            "              colsample_bylevel=0.7475082544980372, colsample_bynode=1,\n",
                            "              colsample_bytree=0.7303494599037559,\n",
                            "              disable_default_eval_metric=True, gamma=0.2782039943046268,\n",
                            "              gpu_id=-1, importance_type='gain', interaction_constraints='',\n",
                            "              learning_rate=0.0019499298126315443, max_delta_step=0,\n",
                            "              max_depth=7, min_child_weight=1, missing=nan,\n",
                            "              monotone_constraints='()', n_estimators=1600, n_jobs=1,\n",
                            "              num_parallel_tree=1, random_state=4, reg_alpha=0.7569700751598903,\n",
                            "              reg_lambda=1.291937538747793, scale_pos_weight=1, seed=4,\n",
                            "              subsample=0.5056122040729307, tree_method='exact',\n",
                            "              use_label_encoder=False, validate_parameters=1, verbosity=None)"
                        ]
                    },
                    "metadata": {},
                    "execution_count": 203
                }
            ],
            "metadata": {}
        },
        {
            "cell_type": "code",
            "execution_count": 204,
            "source": [
                "estimativas = clf.predict(features_test)\r\n",
                "\r\n",
                "print(f\"\"\"\r\n",
                "    {classification_report(y_group_test, estimativas)}\r\n",
                "    {confusion_matrix(y_group_test, estimativas)}\r\n",
                "    \r\n",
                "Curva AUC == {roc_auc_score(y_group_test, estimativas)}\r\n",
                "\"\"\")"
            ],
            "outputs": [
                {
                    "output_type": "stream",
                    "name": "stdout",
                    "text": [
                        "\n",
                        "                  precision    recall  f1-score   support\n",
                        "\n",
                        "           0       0.79      0.89      0.84       162\n",
                        "           1       0.83      0.69      0.75       124\n",
                        "\n",
                        "    accuracy                           0.80       286\n",
                        "   macro avg       0.81      0.79      0.80       286\n",
                        "weighted avg       0.81      0.80      0.80       286\n",
                        "\n",
                        "    [[144  18]\n",
                        " [ 38  86]]\n",
                        "    \n",
                        "Curva AUC == 0.7912186379928315\n",
                        "\n"
                    ]
                }
            ],
            "metadata": {}
        },
        {
            "cell_type": "markdown",
            "source": [
                "## APLICANDO AS FEATURES RELEVANTES"
            ],
            "metadata": {}
        },
        {
            "cell_type": "code",
            "execution_count": 205,
            "source": [
                "X_x = slc_feat.fit_transform(X,y)\r\n",
                "X_x_sub = slc_feat.transform(envio)"
            ],
            "outputs": [],
            "metadata": {}
        },
        {
            "cell_type": "code",
            "execution_count": 206,
            "source": [
                "X_x.shape"
            ],
            "outputs": [
                {
                    "output_type": "execute_result",
                    "data": {
                        "text/plain": [
                            "(953, 5)"
                        ]
                    },
                    "metadata": {},
                    "execution_count": 206
                }
            ],
            "metadata": {}
        },
        {
            "cell_type": "markdown",
            "source": [
                "# Aplicando o modelo e fazendo estimativas no conjunto de dados"
            ],
            "metadata": {}
        },
        {
            "cell_type": "code",
            "execution_count": 207,
            "source": [
                "# Com FEATURES selecionadas\r\n",
                "\r\n",
                "clf.fit(X_x, y)\r\n",
                "\r\n",
                "predict = clf.predict(X_x_sub)"
            ],
            "outputs": [],
            "metadata": {}
        },
        {
            "cell_type": "code",
            "execution_count": 208,
            "source": [
                "last_result = pd.DataFrame({'PassengerId':df_submission['PassengerId'],'Survived':predict})\r\n",
                "last_result.head()"
            ],
            "outputs": [
                {
                    "output_type": "execute_result",
                    "data": {
                        "text/plain": [
                            "   PassengerId  Survived\n",
                            "0          892         0\n",
                            "1          893         1\n",
                            "2          894         0\n",
                            "3          895         0\n",
                            "4          896         1"
                        ],
                        "text/html": [
                            "<div>\n",
                            "<style scoped>\n",
                            "    .dataframe tbody tr th:only-of-type {\n",
                            "        vertical-align: middle;\n",
                            "    }\n",
                            "\n",
                            "    .dataframe tbody tr th {\n",
                            "        vertical-align: top;\n",
                            "    }\n",
                            "\n",
                            "    .dataframe thead th {\n",
                            "        text-align: right;\n",
                            "    }\n",
                            "</style>\n",
                            "<table border=\"1\" class=\"dataframe\">\n",
                            "  <thead>\n",
                            "    <tr style=\"text-align: right;\">\n",
                            "      <th></th>\n",
                            "      <th>PassengerId</th>\n",
                            "      <th>Survived</th>\n",
                            "    </tr>\n",
                            "  </thead>\n",
                            "  <tbody>\n",
                            "    <tr>\n",
                            "      <th>0</th>\n",
                            "      <td>892</td>\n",
                            "      <td>0</td>\n",
                            "    </tr>\n",
                            "    <tr>\n",
                            "      <th>1</th>\n",
                            "      <td>893</td>\n",
                            "      <td>1</td>\n",
                            "    </tr>\n",
                            "    <tr>\n",
                            "      <th>2</th>\n",
                            "      <td>894</td>\n",
                            "      <td>0</td>\n",
                            "    </tr>\n",
                            "    <tr>\n",
                            "      <th>3</th>\n",
                            "      <td>895</td>\n",
                            "      <td>0</td>\n",
                            "    </tr>\n",
                            "    <tr>\n",
                            "      <th>4</th>\n",
                            "      <td>896</td>\n",
                            "      <td>1</td>\n",
                            "    </tr>\n",
                            "  </tbody>\n",
                            "</table>\n",
                            "</div>"
                        ]
                    },
                    "metadata": {},
                    "execution_count": 208
                }
            ],
            "metadata": {}
        },
        {
            "cell_type": "code",
            "execution_count": 211,
            "source": [
                "last_result.to_csv(\"last_result.csv\", index=False)"
            ],
            "outputs": [],
            "metadata": {}
        }
    ],
    "metadata": {
        "orig_nbformat": 4,
        "language_info": {
            "name": "python",
            "version": "3.8.10",
            "mimetype": "text/x-python",
            "codemirror_mode": {
                "name": "ipython",
                "version": 3
            },
            "pygments_lexer": "ipython3",
            "nbconvert_exporter": "python",
            "file_extension": ".py"
        },
        "kernelspec": {
            "name": "python3",
            "display_name": "Python 3.8.10 64-bit ('newenv': venv)"
        },
        "interpreter": {
            "hash": "c1e11e0db90a1b71ff0ddb77de4edfa66a8a20d57eb4f0fc0b3966f691a1e8af"
        }
    },
    "nbformat": 4,
    "nbformat_minor": 2
}