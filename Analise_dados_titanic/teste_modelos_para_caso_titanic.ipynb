{
 "metadata": {
  "language_info": {
   "codemirror_mode": {
    "name": "ipython",
    "version": 3
   },
   "file_extension": ".py",
   "mimetype": "text/x-python",
   "name": "python",
   "nbconvert_exporter": "python",
   "pygments_lexer": "ipython3",
   "version": "3.8.5"
  },
  "orig_nbformat": 2,
  "kernelspec": {
   "name": "pythonjvsc74a57bd0708b94eace4f0dd0dfda479c7ada2f17f19c01136132ae735e35f8f53e31e86a",
   "display_name": "Python 3.8.5  ('venv': venv)"
  },
  "metadata": {
   "interpreter": {
    "hash": "708b94eace4f0dd0dfda479c7ada2f17f19c01136132ae735e35f8f53e31e86a"
   }
  }
 },
 "nbformat": 4,
 "nbformat_minor": 2,
 "cells": [
  {
   "cell_type": "code",
   "execution_count": 26,
   "metadata": {},
   "outputs": [],
   "source": [
    "import pandas as pd"
   ]
  },
  {
   "cell_type": "code",
   "execution_count": 5,
   "metadata": {},
   "outputs": [],
   "source": [
    "df = pd.read_csv('../dados_titanic/train.csv')\n",
    "df_kaggle = pd.read_csv('../dados_titanic/test.csv')"
   ]
  },
  {
   "cell_type": "code",
   "execution_count": 6,
   "metadata": {},
   "outputs": [],
   "source": [
    "df = df.append(df_kaggle, sort=False)"
   ]
  },
  {
   "cell_type": "code",
   "execution_count": 7,
   "metadata": {},
   "outputs": [],
   "source": [
    "for col in df.columns:\n",
    "    if df[col].dtype == 'object':\n",
    "        df[col] = df[col].astype('category')\n",
    "        df[col] = df[col].cat.codes"
   ]
  },
  {
   "cell_type": "code",
   "execution_count": 8,
   "metadata": {},
   "outputs": [],
   "source": [
    "df.fillna(-1, inplace=True)"
   ]
  },
  {
   "cell_type": "code",
   "execution_count": 9,
   "metadata": {},
   "outputs": [
    {
     "output_type": "execute_result",
     "data": {
      "text/plain": [
       "     PassengerId  Survived  Pclass  Name  Sex   Age  SibSp  Parch  Ticket  \\\n",
       "0              1       0.0       3   155    1  22.0      1      0     720   \n",
       "1              2       1.0       1   286    0  38.0      1      0     816   \n",
       "2              3       1.0       3   523    0  26.0      0      0     914   \n",
       "3              4       1.0       1   422    0  35.0      1      0      65   \n",
       "4              5       0.0       3    22    1  35.0      0      0     649   \n",
       "..           ...       ...     ...   ...  ...   ...    ...    ...     ...   \n",
       "413         1305      -1.0       3  1126    1  -1.0      0      0     711   \n",
       "414         1306      -1.0       1   891    0  39.0      0      0     834   \n",
       "415         1307      -1.0       3  1046    1  38.5      0      0     872   \n",
       "416         1308      -1.0       3  1227    1  -1.0      0      0     579   \n",
       "417         1309      -1.0       3   953    1  -1.0      1      1     262   \n",
       "\n",
       "         Fare  Cabin  Embarked  \n",
       "0      7.2500     -1         2  \n",
       "1     71.2833    106         0  \n",
       "2      7.9250     -1         2  \n",
       "3     53.1000     70         2  \n",
       "4      8.0500     -1         2  \n",
       "..        ...    ...       ...  \n",
       "413    8.0500     -1         2  \n",
       "414  108.9000     64         0  \n",
       "415    7.2500     -1         2  \n",
       "416    8.0500     -1         2  \n",
       "417   22.3583     -1         0  \n",
       "\n",
       "[1309 rows x 12 columns]"
      ],
      "text/html": "<div>\n<style scoped>\n    .dataframe tbody tr th:only-of-type {\n        vertical-align: middle;\n    }\n\n    .dataframe tbody tr th {\n        vertical-align: top;\n    }\n\n    .dataframe thead th {\n        text-align: right;\n    }\n</style>\n<table border=\"1\" class=\"dataframe\">\n  <thead>\n    <tr style=\"text-align: right;\">\n      <th></th>\n      <th>PassengerId</th>\n      <th>Survived</th>\n      <th>Pclass</th>\n      <th>Name</th>\n      <th>Sex</th>\n      <th>Age</th>\n      <th>SibSp</th>\n      <th>Parch</th>\n      <th>Ticket</th>\n      <th>Fare</th>\n      <th>Cabin</th>\n      <th>Embarked</th>\n    </tr>\n  </thead>\n  <tbody>\n    <tr>\n      <th>0</th>\n      <td>1</td>\n      <td>0.0</td>\n      <td>3</td>\n      <td>155</td>\n      <td>1</td>\n      <td>22.0</td>\n      <td>1</td>\n      <td>0</td>\n      <td>720</td>\n      <td>7.2500</td>\n      <td>-1</td>\n      <td>2</td>\n    </tr>\n    <tr>\n      <th>1</th>\n      <td>2</td>\n      <td>1.0</td>\n      <td>1</td>\n      <td>286</td>\n      <td>0</td>\n      <td>38.0</td>\n      <td>1</td>\n      <td>0</td>\n      <td>816</td>\n      <td>71.2833</td>\n      <td>106</td>\n      <td>0</td>\n    </tr>\n    <tr>\n      <th>2</th>\n      <td>3</td>\n      <td>1.0</td>\n      <td>3</td>\n      <td>523</td>\n      <td>0</td>\n      <td>26.0</td>\n      <td>0</td>\n      <td>0</td>\n      <td>914</td>\n      <td>7.9250</td>\n      <td>-1</td>\n      <td>2</td>\n    </tr>\n    <tr>\n      <th>3</th>\n      <td>4</td>\n      <td>1.0</td>\n      <td>1</td>\n      <td>422</td>\n      <td>0</td>\n      <td>35.0</td>\n      <td>1</td>\n      <td>0</td>\n      <td>65</td>\n      <td>53.1000</td>\n      <td>70</td>\n      <td>2</td>\n    </tr>\n    <tr>\n      <th>4</th>\n      <td>5</td>\n      <td>0.0</td>\n      <td>3</td>\n      <td>22</td>\n      <td>1</td>\n      <td>35.0</td>\n      <td>0</td>\n      <td>0</td>\n      <td>649</td>\n      <td>8.0500</td>\n      <td>-1</td>\n      <td>2</td>\n    </tr>\n    <tr>\n      <th>...</th>\n      <td>...</td>\n      <td>...</td>\n      <td>...</td>\n      <td>...</td>\n      <td>...</td>\n      <td>...</td>\n      <td>...</td>\n      <td>...</td>\n      <td>...</td>\n      <td>...</td>\n      <td>...</td>\n      <td>...</td>\n    </tr>\n    <tr>\n      <th>413</th>\n      <td>1305</td>\n      <td>-1.0</td>\n      <td>3</td>\n      <td>1126</td>\n      <td>1</td>\n      <td>-1.0</td>\n      <td>0</td>\n      <td>0</td>\n      <td>711</td>\n      <td>8.0500</td>\n      <td>-1</td>\n      <td>2</td>\n    </tr>\n    <tr>\n      <th>414</th>\n      <td>1306</td>\n      <td>-1.0</td>\n      <td>1</td>\n      <td>891</td>\n      <td>0</td>\n      <td>39.0</td>\n      <td>0</td>\n      <td>0</td>\n      <td>834</td>\n      <td>108.9000</td>\n      <td>64</td>\n      <td>0</td>\n    </tr>\n    <tr>\n      <th>415</th>\n      <td>1307</td>\n      <td>-1.0</td>\n      <td>3</td>\n      <td>1046</td>\n      <td>1</td>\n      <td>38.5</td>\n      <td>0</td>\n      <td>0</td>\n      <td>872</td>\n      <td>7.2500</td>\n      <td>-1</td>\n      <td>2</td>\n    </tr>\n    <tr>\n      <th>416</th>\n      <td>1308</td>\n      <td>-1.0</td>\n      <td>3</td>\n      <td>1227</td>\n      <td>1</td>\n      <td>-1.0</td>\n      <td>0</td>\n      <td>0</td>\n      <td>579</td>\n      <td>8.0500</td>\n      <td>-1</td>\n      <td>2</td>\n    </tr>\n    <tr>\n      <th>417</th>\n      <td>1309</td>\n      <td>-1.0</td>\n      <td>3</td>\n      <td>953</td>\n      <td>1</td>\n      <td>-1.0</td>\n      <td>1</td>\n      <td>1</td>\n      <td>262</td>\n      <td>22.3583</td>\n      <td>-1</td>\n      <td>0</td>\n    </tr>\n  </tbody>\n</table>\n<p>1309 rows × 12 columns</p>\n</div>"
     },
     "metadata": {},
     "execution_count": 9
    }
   ],
   "source": [
    "df"
   ]
  },
  {
   "cell_type": "code",
   "execution_count": 10,
   "metadata": {},
   "outputs": [],
   "source": [
    "df_kaggle = df.iloc[891:].copy()\n",
    "df = df.iloc[:891].copy()"
   ]
  },
  {
   "cell_type": "code",
   "execution_count": 27,
   "metadata": {},
   "outputs": [
    {
     "output_type": "execute_result",
     "data": {
      "text/plain": [
       "     PassengerId  Survived  Pclass  Name  Sex   Age  SibSp  Parch  Ticket  \\\n",
       "0              1       0.0       3   155    1  22.0      1      0     720   \n",
       "1              2       1.0       1   286    0  38.0      1      0     816   \n",
       "2              3       1.0       3   523    0  26.0      0      0     914   \n",
       "3              4       1.0       1   422    0  35.0      1      0      65   \n",
       "4              5       0.0       3    22    1  35.0      0      0     649   \n",
       "..           ...       ...     ...   ...  ...   ...    ...    ...     ...   \n",
       "886          887       0.0       2   811    1  27.0      0      0     130   \n",
       "887          888       1.0       1   464    0  19.0      0      0      18   \n",
       "888          889       0.0       3   607    0  -1.0      1      2     923   \n",
       "889          890       1.0       1   113    1  26.0      0      0      11   \n",
       "890          891       0.0       3   338    1  32.0      0      0     642   \n",
       "\n",
       "        Fare  Cabin  Embarked  \n",
       "0     7.2500     -1         2  \n",
       "1    71.2833    106         0  \n",
       "2     7.9250     -1         2  \n",
       "3    53.1000     70         2  \n",
       "4     8.0500     -1         2  \n",
       "..       ...    ...       ...  \n",
       "886  13.0000     -1         2  \n",
       "887  30.0000     40         2  \n",
       "888  23.4500     -1         2  \n",
       "889  30.0000     77         0  \n",
       "890   7.7500     -1         1  \n",
       "\n",
       "[891 rows x 12 columns]"
      ],
      "text/html": "<div>\n<style scoped>\n    .dataframe tbody tr th:only-of-type {\n        vertical-align: middle;\n    }\n\n    .dataframe tbody tr th {\n        vertical-align: top;\n    }\n\n    .dataframe thead th {\n        text-align: right;\n    }\n</style>\n<table border=\"1\" class=\"dataframe\">\n  <thead>\n    <tr style=\"text-align: right;\">\n      <th></th>\n      <th>PassengerId</th>\n      <th>Survived</th>\n      <th>Pclass</th>\n      <th>Name</th>\n      <th>Sex</th>\n      <th>Age</th>\n      <th>SibSp</th>\n      <th>Parch</th>\n      <th>Ticket</th>\n      <th>Fare</th>\n      <th>Cabin</th>\n      <th>Embarked</th>\n    </tr>\n  </thead>\n  <tbody>\n    <tr>\n      <th>0</th>\n      <td>1</td>\n      <td>0.0</td>\n      <td>3</td>\n      <td>155</td>\n      <td>1</td>\n      <td>22.0</td>\n      <td>1</td>\n      <td>0</td>\n      <td>720</td>\n      <td>7.2500</td>\n      <td>-1</td>\n      <td>2</td>\n    </tr>\n    <tr>\n      <th>1</th>\n      <td>2</td>\n      <td>1.0</td>\n      <td>1</td>\n      <td>286</td>\n      <td>0</td>\n      <td>38.0</td>\n      <td>1</td>\n      <td>0</td>\n      <td>816</td>\n      <td>71.2833</td>\n      <td>106</td>\n      <td>0</td>\n    </tr>\n    <tr>\n      <th>2</th>\n      <td>3</td>\n      <td>1.0</td>\n      <td>3</td>\n      <td>523</td>\n      <td>0</td>\n      <td>26.0</td>\n      <td>0</td>\n      <td>0</td>\n      <td>914</td>\n      <td>7.9250</td>\n      <td>-1</td>\n      <td>2</td>\n    </tr>\n    <tr>\n      <th>3</th>\n      <td>4</td>\n      <td>1.0</td>\n      <td>1</td>\n      <td>422</td>\n      <td>0</td>\n      <td>35.0</td>\n      <td>1</td>\n      <td>0</td>\n      <td>65</td>\n      <td>53.1000</td>\n      <td>70</td>\n      <td>2</td>\n    </tr>\n    <tr>\n      <th>4</th>\n      <td>5</td>\n      <td>0.0</td>\n      <td>3</td>\n      <td>22</td>\n      <td>1</td>\n      <td>35.0</td>\n      <td>0</td>\n      <td>0</td>\n      <td>649</td>\n      <td>8.0500</td>\n      <td>-1</td>\n      <td>2</td>\n    </tr>\n    <tr>\n      <th>...</th>\n      <td>...</td>\n      <td>...</td>\n      <td>...</td>\n      <td>...</td>\n      <td>...</td>\n      <td>...</td>\n      <td>...</td>\n      <td>...</td>\n      <td>...</td>\n      <td>...</td>\n      <td>...</td>\n      <td>...</td>\n    </tr>\n    <tr>\n      <th>886</th>\n      <td>887</td>\n      <td>0.0</td>\n      <td>2</td>\n      <td>811</td>\n      <td>1</td>\n      <td>27.0</td>\n      <td>0</td>\n      <td>0</td>\n      <td>130</td>\n      <td>13.0000</td>\n      <td>-1</td>\n      <td>2</td>\n    </tr>\n    <tr>\n      <th>887</th>\n      <td>888</td>\n      <td>1.0</td>\n      <td>1</td>\n      <td>464</td>\n      <td>0</td>\n      <td>19.0</td>\n      <td>0</td>\n      <td>0</td>\n      <td>18</td>\n      <td>30.0000</td>\n      <td>40</td>\n      <td>2</td>\n    </tr>\n    <tr>\n      <th>888</th>\n      <td>889</td>\n      <td>0.0</td>\n      <td>3</td>\n      <td>607</td>\n      <td>0</td>\n      <td>-1.0</td>\n      <td>1</td>\n      <td>2</td>\n      <td>923</td>\n      <td>23.4500</td>\n      <td>-1</td>\n      <td>2</td>\n    </tr>\n    <tr>\n      <th>889</th>\n      <td>890</td>\n      <td>1.0</td>\n      <td>1</td>\n      <td>113</td>\n      <td>1</td>\n      <td>26.0</td>\n      <td>0</td>\n      <td>0</td>\n      <td>11</td>\n      <td>30.0000</td>\n      <td>77</td>\n      <td>0</td>\n    </tr>\n    <tr>\n      <th>890</th>\n      <td>891</td>\n      <td>0.0</td>\n      <td>3</td>\n      <td>338</td>\n      <td>1</td>\n      <td>32.0</td>\n      <td>0</td>\n      <td>0</td>\n      <td>642</td>\n      <td>7.7500</td>\n      <td>-1</td>\n      <td>1</td>\n    </tr>\n  </tbody>\n</table>\n<p>891 rows × 12 columns</p>\n</div>"
     },
     "metadata": {},
     "execution_count": 27
    }
   ],
   "source": [
    "df"
   ]
  },
  {
   "cell_type": "code",
   "execution_count": 12,
   "metadata": {},
   "outputs": [],
   "source": [
    "from sklearn.model_selection import train_test_split"
   ]
  },
  {
   "cell_type": "code",
   "execution_count": 13,
   "metadata": {},
   "outputs": [],
   "source": [
    "train, teste = train_test_split(df, test_size=0.2, random_state=5)"
   ]
  },
  {
   "cell_type": "code",
   "execution_count": 14,
   "metadata": {},
   "outputs": [],
   "source": [
    "remove = ['Survived','PassengerId','Name']\n",
    "features = [col for col in df.columns if col not in remove]"
   ]
  },
  {
   "cell_type": "code",
   "execution_count": 15,
   "metadata": {},
   "outputs": [
    {
     "output_type": "execute_result",
     "data": {
      "text/plain": [
       "['Pclass',\n",
       " 'Sex',\n",
       " 'Age',\n",
       " 'SibSp',\n",
       " 'Parch',\n",
       " 'Ticket',\n",
       " 'Fare',\n",
       " 'Cabin',\n",
       " 'Embarked']"
      ]
     },
     "metadata": {},
     "execution_count": 15
    }
   ],
   "source": [
    "features"
   ]
  },
  {
   "cell_type": "code",
   "execution_count": 48,
   "metadata": {},
   "outputs": [
    {
     "output_type": "execute_result",
     "data": {
      "text/plain": [
       "{'Pclass': 2,\n",
       " 'Sex': 0,\n",
       " 'Age': 24,\n",
       " 'SibSp': 0,\n",
       " 'Parch': 0,\n",
       " 'Ticket': 522,\n",
       " 'Fare': 7.55,\n",
       " 'Cabin': 69,\n",
       " 'Embarked': 0}"
      ]
     },
     "metadata": {},
     "execution_count": 48
    }
   ],
   "source": [
    "passager_dict = {'Pclass': 2,\n",
    " 'Sex': 0,\n",
    " 'Age': 24,\n",
    " 'SibSp': 0,\n",
    " 'Parch': 0,\n",
    " 'Ticket': 522,\n",
    " 'Fare': 7.5500,\n",
    " 'Cabin': 69,\n",
    " 'Embarked': 0}\n",
    "\n",
    "passager_dict"
   ]
  },
  {
   "cell_type": "code",
   "execution_count": 61,
   "metadata": {},
   "outputs": [],
   "source": [
    "passager_df = pd.DataFrame(passager_dict, index=[0])"
   ]
  },
  {
   "cell_type": "code",
   "execution_count": 62,
   "metadata": {},
   "outputs": [
    {
     "output_type": "execute_result",
     "data": {
      "text/plain": [
       "   Pclass  Sex  Age  SibSp  Parch  Ticket  Fare  Cabin  Embarked\n",
       "0       2    0   24      0      0     522  7.55     69         0"
      ],
      "text/html": "<div>\n<style scoped>\n    .dataframe tbody tr th:only-of-type {\n        vertical-align: middle;\n    }\n\n    .dataframe tbody tr th {\n        vertical-align: top;\n    }\n\n    .dataframe thead th {\n        text-align: right;\n    }\n</style>\n<table border=\"1\" class=\"dataframe\">\n  <thead>\n    <tr style=\"text-align: right;\">\n      <th></th>\n      <th>Pclass</th>\n      <th>Sex</th>\n      <th>Age</th>\n      <th>SibSp</th>\n      <th>Parch</th>\n      <th>Ticket</th>\n      <th>Fare</th>\n      <th>Cabin</th>\n      <th>Embarked</th>\n    </tr>\n  </thead>\n  <tbody>\n    <tr>\n      <th>0</th>\n      <td>2</td>\n      <td>0</td>\n      <td>24</td>\n      <td>0</td>\n      <td>0</td>\n      <td>522</td>\n      <td>7.55</td>\n      <td>69</td>\n      <td>0</td>\n    </tr>\n  </tbody>\n</table>\n</div>"
     },
     "metadata": {},
     "execution_count": 62
    }
   ],
   "source": [
    "passager_df"
   ]
  },
  {
   "cell_type": "code",
   "execution_count": 16,
   "metadata": {},
   "outputs": [],
   "source": [
    "from sklearn.svm import LinearSVC\n",
    "from sklearn.linear_model import SGDClassifier\n",
    "from sklearn.ensemble import RandomForestClassifier\n",
    "from sklearn.neural_network import MLPClassifier"
   ]
  },
  {
   "cell_type": "code",
   "execution_count": 19,
   "metadata": {},
   "outputs": [],
   "source": [
    "from sklearn.metrics import confusion_matrix, accuracy_score"
   ]
  },
  {
   "cell_type": "code",
   "execution_count": 162,
   "metadata": {},
   "outputs": [
    {
     "output_type": "execute_result",
     "data": {
      "text/plain": [
       "LinearSVC(C=1, dual=False, penalty='l1', random_state=5)"
      ]
     },
     "metadata": {},
     "execution_count": 162
    }
   ],
   "source": [
    "clf = LinearSVC(C=1, random_state=5, penalty='l1', loss='squared_hinge', dual=False)\n",
    "clf.fit(train[features], train['Survived'])"
   ]
  },
  {
   "cell_type": "code",
   "execution_count": 165,
   "metadata": {},
   "outputs": [
    {
     "output_type": "stream",
     "name": "stdout",
     "text": [
      "\n79.88826815642457\n[[98 13]\n [23 45]]\n"
     ]
    }
   ],
   "source": [
    "pred = clf.predict(teste[features])\n",
    "mt_cf = confusion_matrix(teste['Survived'], pred)\n",
    "print(f\"\"\"\n",
    "{accuracy_score(teste['Survived'], pred)*100}\n",
    "{mt_cf}\"\"\")"
   ]
  },
  {
   "source": [
    "clf2 = SGDClassifier(loss='perceptron', penalty='elasticnet', alpha=0.09009, max_iter=50, tol=0.03, random_state=5, )\n",
    "clf2.fit(train[features], train['Survived'])"
   ],
   "cell_type": "code",
   "metadata": {},
   "execution_count": 158,
   "outputs": [
    {
     "output_type": "execute_result",
     "data": {
      "text/plain": [
       "SGDClassifier(alpha=0.09009, loss='perceptron', max_iter=50,\n",
       "              penalty='elasticnet', random_state=5, tol=0.03)"
      ]
     },
     "metadata": {},
     "execution_count": 158
    }
   ]
  },
  {
   "cell_type": "code",
   "execution_count": 160,
   "metadata": {},
   "outputs": [
    {
     "output_type": "stream",
     "name": "stdout",
     "text": [
      "\n82.12290502793296\n[[94 17]\n [15 53]]\n"
     ]
    }
   ],
   "source": [
    "pred = clf2.predict(teste[features])\n",
    "mt_cf = confusion_matrix(teste['Survived'], pred)\n",
    "print(f\"\"\"\n",
    "{accuracy_score(teste['Survived'], pred)*100}\n",
    "{mt_cf}\"\"\")"
   ]
  },
  {
   "cell_type": "code",
   "execution_count": 92,
   "metadata": {},
   "outputs": [
    {
     "output_type": "execute_result",
     "data": {
      "text/plain": [
       "RandomForestClassifier(class_weight='balanced_subsample', n_jobs=-1,\n",
       "                       random_state=48)"
      ]
     },
     "metadata": {},
     "execution_count": 92
    }
   ],
   "source": [
    "clf3 = RandomForestClassifier(n_jobs=-1, random_state=48, class_weight='balanced_subsample')\n",
    "clf3.fit(train[features], train['Survived'])"
   ]
  },
  {
   "cell_type": "code",
   "execution_count": 167,
   "metadata": {},
   "outputs": [
    {
     "output_type": "stream",
     "name": "stdout",
     "text": [
      "\n83.79888268156425\n[[102   9]\n [ 20  48]]\n"
     ]
    }
   ],
   "source": [
    "pred = clf3.predict(teste[features])\n",
    "mt_cf = confusion_matrix(teste['Survived'], pred)\n",
    "print(f\"\"\"\n",
    "{accuracy_score(teste['Survived'], pred)*100}\n",
    "{mt_cf}\"\"\")"
   ]
  },
  {
   "cell_type": "code",
   "execution_count": 154,
   "metadata": {},
   "outputs": [
    {
     "output_type": "execute_result",
     "data": {
      "text/plain": [
       "MLPClassifier(activation='logistic', alpha=0.03, hidden_layer_sizes=(9, 18, 13),\n",
       "              max_iter=500, random_state=48)"
      ]
     },
     "metadata": {},
     "execution_count": 154
    }
   ],
   "source": [
    "clf4 = MLPClassifier(activation='logistic', solver='adam', alpha=0.03, max_iter=500, learning_rate_init=0.001,  random_state=48, hidden_layer_sizes=(9,18,13))\n",
    "clf4.fit(train[features], train['Survived'])"
   ]
  },
  {
   "source": [
    "pred = clf4.predict(teste[features])\n",
    "mt_cf = confusion_matrix(teste['Survived'], pred)\n",
    "print(f\"\"\"\n",
    "{accuracy_score(teste['Survived'], pred)*100}\n",
    "{mt_cf}\"\"\")"
   ],
   "cell_type": "code",
   "metadata": {},
   "execution_count": 157,
   "outputs": [
    {
     "output_type": "stream",
     "name": "stdout",
     "text": [
      "\n83.79888268156425\n[[97 14]\n [15 53]]\n"
     ]
    }
   ]
  },
  {
   "cell_type": "code",
   "execution_count": 168,
   "metadata": {},
   "outputs": [],
   "source": [
    "result = clf3.predict(df_kaggle[features])"
   ]
  },
  {
   "cell_type": "code",
   "execution_count": 68,
   "metadata": {},
   "outputs": [
    {
     "output_type": "execute_result",
     "data": {
      "text/plain": [
       "     PassengerId  Survived\n",
       "0            892         0\n",
       "1            893         1\n",
       "2            894         0\n",
       "3            895         0\n",
       "4            896         1\n",
       "..           ...       ...\n",
       "413         1305         0\n",
       "414         1306         1\n",
       "415         1307         0\n",
       "416         1308         0\n",
       "417         1309         0\n",
       "\n",
       "[418 rows x 2 columns]"
      ],
      "text/html": "<div>\n<style scoped>\n    .dataframe tbody tr th:only-of-type {\n        vertical-align: middle;\n    }\n\n    .dataframe tbody tr th {\n        vertical-align: top;\n    }\n\n    .dataframe thead th {\n        text-align: right;\n    }\n</style>\n<table border=\"1\" class=\"dataframe\">\n  <thead>\n    <tr style=\"text-align: right;\">\n      <th></th>\n      <th>PassengerId</th>\n      <th>Survived</th>\n    </tr>\n  </thead>\n  <tbody>\n    <tr>\n      <th>0</th>\n      <td>892</td>\n      <td>0</td>\n    </tr>\n    <tr>\n      <th>1</th>\n      <td>893</td>\n      <td>1</td>\n    </tr>\n    <tr>\n      <th>2</th>\n      <td>894</td>\n      <td>0</td>\n    </tr>\n    <tr>\n      <th>3</th>\n      <td>895</td>\n      <td>0</td>\n    </tr>\n    <tr>\n      <th>4</th>\n      <td>896</td>\n      <td>1</td>\n    </tr>\n    <tr>\n      <th>...</th>\n      <td>...</td>\n      <td>...</td>\n    </tr>\n    <tr>\n      <th>413</th>\n      <td>1305</td>\n      <td>0</td>\n    </tr>\n    <tr>\n      <th>414</th>\n      <td>1306</td>\n      <td>1</td>\n    </tr>\n    <tr>\n      <th>415</th>\n      <td>1307</td>\n      <td>0</td>\n    </tr>\n    <tr>\n      <th>416</th>\n      <td>1308</td>\n      <td>0</td>\n    </tr>\n    <tr>\n      <th>417</th>\n      <td>1309</td>\n      <td>0</td>\n    </tr>\n  </tbody>\n</table>\n<p>418 rows × 2 columns</p>\n</div>"
     },
     "metadata": {},
     "execution_count": 68
    }
   ],
   "source": [
    "comparation = pd.read_csv('../dados_titanic/possivel saida.csv')\n",
    "comparation"
   ]
  },
  {
   "cell_type": "code",
   "execution_count": 169,
   "metadata": {},
   "outputs": [],
   "source": [
    "count = 0\n",
    "for my_r, comp in zip(result, comparation['Survived']):\n",
    "    if my_r != comp:\n",
    "        count += 1"
   ]
  },
  {
   "cell_type": "code",
   "execution_count": 170,
   "metadata": {},
   "outputs": [
    {
     "output_type": "execute_result",
     "data": {
      "text/plain": [
       "64"
      ]
     },
     "metadata": {},
     "execution_count": 170
    }
   ],
   "source": [
    "count"
   ]
  },
  {
   "cell_type": "code",
   "execution_count": null,
   "metadata": {},
   "outputs": [],
   "source": []
  }
 ]
}